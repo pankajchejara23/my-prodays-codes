{
 "cells": [
  {
   "cell_type": "markdown",
   "metadata": {},
   "source": [
    "## Validating third day project days data with first two days"
   ]
  },
  {
   "cell_type": "code",
   "execution_count": 1,
   "metadata": {},
   "outputs": [],
   "source": [
    "import pandas as pd\n",
    "import numpy as np\n",
    "import sklearn as sk\n",
    "import matplotlib.pyplot as plt"
   ]
  },
  {
   "cell_type": "code",
   "execution_count": 2,
   "metadata": {},
   "outputs": [
    {
     "name": "stdout",
     "output_type": "stream",
     "text": [
      "Entire dataset: (265, 13)\n",
      "(204, 13)\n"
     ]
    }
   ],
   "source": [
    "# Load Project days dataset file \n",
    "data_8nov = pd.read_csv('ProcessedData_ProjectDay_20171108.csv')\n",
    "data_22nov = pd.read_csv('ProcessedData_ProjectDay_20171122.csv')\n",
    "data_18oct = pd.read_csv('ProcessedData_ProjectDay_20171018.csv')\n",
    "\n",
    "groups_info = {}\n",
    "\n",
    "# combined data\n",
    "data_all = data_8nov.append([data_22nov,data_18oct])\n",
    "\n",
    "\n",
    "\n",
    "print 'Entire dataset:',data_all.shape\n",
    "\n",
    "groups_info ['2017-11-08'] = data_8nov.group.unique()\n",
    "groups_info ['2017-11-22'] = data_22nov.group.unique()\n",
    "groups_info ['2017-10-18'] =  data_18oct.group.unique()\n",
    "\n",
    "data_all.to_csv('Data_all.csv')\n",
    "data_all.dropna(how='any',inplace=True)\n",
    "print data_all.shape"
   ]
  },
  {
   "cell_type": "code",
   "execution_count": null,
   "metadata": {},
   "outputs": [],
   "source": []
  }
 ],
 "metadata": {
  "kernelspec": {
   "display_name": "Python 2",
   "language": "python",
   "name": "python2"
  },
  "language_info": {
   "codemirror_mode": {
    "name": "ipython",
    "version": 2
   },
   "file_extension": ".py",
   "mimetype": "text/x-python",
   "name": "python",
   "nbconvert_exporter": "python",
   "pygments_lexer": "ipython2",
   "version": "2.7.15"
  }
 },
 "nbformat": 4,
 "nbformat_minor": 2
}
