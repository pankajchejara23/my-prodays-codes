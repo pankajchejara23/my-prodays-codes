{
 "cells": [
  {
   "cell_type": "code",
   "execution_count": 1,
   "metadata": {},
   "outputs": [
    {
     "ename": "ERROR",
     "evalue": "Error in library(FactoMineR): there is no package called ‘FactoMineR’\n",
     "output_type": "error",
     "traceback": [
      "Error in library(FactoMineR): there is no package called ‘FactoMineR’\nTraceback:\n",
      "1. library(FactoMineR)",
      "2. stop(txt, domain = NA)"
     ]
    }
   ],
   "source": [
    "library(ggplot2)\n",
    "library(FactoMineR)\n",
    "library(factoextra)\n",
    "library(FactoInvestigate)\n",
    "\n",
    "data <- read.csv(\"./Data_16th_NOv.csv\")\n",
    "\n",
    "ggplot(data, aes(x=disengaged))+geom_histogram()\n",
    "ggplot(data, aes(x=looking))+geom_histogram()\n",
    "ggplot(data, aes(x=talking))+geom_histogram()\n",
    "ggplot(data, aes(x=intTech))+geom_histogram()\n",
    "ggplot(data, aes(x=intRes))+geom_histogram()\n",
    "ggplot(data, aes(x=intExt))+geom_histogram()\n",
    "ggplot(data, aes(x=Accessed))+geom_histogram()\n",
    "ggplot(data, aes(x=Create))+geom_histogram()\n",
    "ggplot(data, aes(x=Open))+geom_histogram()\n",
    "ggplot(data, aes(x=Update))+geom_histogram()\n",
    "\n",
    "pca1 <- PCA(data[,4:13], scale.unit = T, ncp=10, graph=T)\n",
    "\n",
    "mfa1 <- MFA(data[,4:13], group=c(6,4), type=c(\"s\", \"c\"), ncp=10, name.group=c(\"obs\",\"logs\"))\n",
    "summary(mfa1)\n",
    "plot(mfa1)\n",
    "plotellipses(mfa1)\n",
    "fviz_screeplot(mfa1) \n",
    "data$Engagement <- mfa1$ind$coord[,1]\n",
    "\n",
    "# The data is skewed! any transformation to make it a different distribution?\n",
    "# Leave Accessed out\n",
    "# Binarize log variables\n",
    "# ...\n",
    "\n",
    "mfa2 <- MFA(data[,c(4:9,11:13)], group=c(6,3), type=c(\"s\", \"c\"), ncp=9, name.group=c(\"obs\",\"logs\"))\n",
    "fviz_screeplot(mfa2)\n",
    "plot(mfa2, axes=c(1,3), choix=\"var\")\n",
    "\n",
    "names(mfa1)\n",
    "names(data)\n",
    "data$time = as.POSIXct(data$timestamp)\n",
    "ggplot(data[data$group==\"1AB\",], aes(x=time, y=Engagement, color=group))+geom_line()\n",
    "ggplot(data[data$group==\"1AB\",], aes(x=time, y=PhysvsTech, color=group))+geom_line()\n",
    "\n",
    "\n",
    "# HMMs? depmixS4\n",
    "\n"
   ]
  },
  {
   "cell_type": "code",
   "execution_count": null,
   "metadata": {},
   "outputs": [],
   "source": []
  }
 ],
 "metadata": {
  "kernelspec": {
   "display_name": "R",
   "language": "R",
   "name": "ir"
  },
  "language_info": {
   "codemirror_mode": "r",
   "file_extension": ".r",
   "mimetype": "text/x-r-source",
   "name": "R",
   "pygments_lexer": "r",
   "version": "3.5.1"
  }
 },
 "nbformat": 4,
 "nbformat_minor": 2
}
